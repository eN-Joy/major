{
 "cells": [
  {
   "cell_type": "markdown",
   "id": "ec7ee391-876b-4024-80b5-c415f411c406",
   "metadata": {},
   "source": [
    "## Python Oracle: oracledb vs cs_Oracle\n",
    "\n",
    "oracledb is newer but the connection string for thin mode is yet discovered. It'll work in the below context.\n",
    "cx_Oracle runs in thick mode, i.e., requires client library, but for now it worked for django settings."
   ]
  },
  {
   "cell_type": "markdown",
   "id": "981a3c60-7053-4118-813a-c25ace10fb63",
   "metadata": {},
   "source": [
    "## Proof of concept: python connects to oracle"
   ]
  },
  {
   "cell_type": "code",
   "execution_count": 16,
   "id": "2278480a-9dd7-4f35-b520-7c6fd1e13c71",
   "metadata": {},
   "outputs": [
    {
     "data": {
      "text/plain": [
       "<oracledb.Cursor on <oracledb.Connection to admin@idchart_low>>"
      ]
     },
     "execution_count": 16,
     "metadata": {},
     "output_type": "execute_result"
    }
   ],
   "source": [
    "import oracledb\n",
    "connection = oracledb.connect(user=\"admin\", password='', dsn=\"idchart_low\",\n",
    "                              config_dir=\"/home/ubuntu/Oracle/network/admin\",\n",
    "                              wallet_location=\"/home/ubuntu/Oracle/network/admin\", wallet_password='')\n",
    "\n",
    "cur = connection.cursor()\n",
    "cur.execute(\"select username as schema_name from sys.all_users order by username\")\n",
    "while True:\n",
    "    row = cur.fetchone()\n",
    "    if row is None:\n",
    "        break\n",
    "    print(row)\n",
    "\n",
    "connection.close()"
   ]
  },
  {
   "cell_type": "markdown",
   "id": "aff047d1-b8b3-4918-8eab-3f11c1ef8d0e",
   "metadata": {},
   "source": [
    "## Older cx_Oracle\n",
    "\n",
    "I have success with the older library, although this one only support thick connection? I had to download `Oracle Instant Client`. \n",
    "\n",
    "There are `.zip`  and `.rpm` version, I chose `.zip` and unzip the file into `/opt/oracle`, the full path needs to be added to `LD_LIBRARY_PATH` environment variable.\n",
    "\n",
    "This chunk of code in settings.py worked for me:\n",
    "\n",
    "```python\n",
    "DATABASES = {\n",
    "    'default':\n",
    "    {\n",
    "        'ENGINE': 'django.db.backends.oracle',\n",
    "        'NAME': 'idchart_low',\n",
    "        'USER': config(\"DB_USER\"),\n",
    "        'PASSWORD': config(\"DB_PASSWORD\")\n",
    "    }\n",
    "}\n",
    "```\n",
    "\n",
    "where, of course `idchart_low` is a `dsn` in your `tnsnames.ora`"
   ]
  },
  {
   "cell_type": "code",
   "execution_count": null,
   "id": "867f4e2f-4ae0-493a-a6ea-74d1cec1de8b",
   "metadata": {},
   "outputs": [],
   "source": []
  }
 ],
 "metadata": {
  "kernelspec": {
   "display_name": "Python 3 (ipykernel)",
   "language": "python",
   "name": "python3"
  },
  "language_info": {
   "codemirror_mode": {
    "name": "ipython",
    "version": 3
   },
   "file_extension": ".py",
   "mimetype": "text/x-python",
   "name": "python",
   "nbconvert_exporter": "python",
   "pygments_lexer": "ipython3",
   "version": "3.10.6"
  }
 },
 "nbformat": 4,
 "nbformat_minor": 5
}
