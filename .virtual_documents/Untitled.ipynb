import oracledb
connection = oracledb.connect(user="admin", password='', dsn="idchart_low",
                              config_dir="/home/ubuntu/Oracle/network/admin",
                              wallet_location="/home/ubuntu/Oracle/network/admin", wallet_password='')

cur = connection.cursor()
cur.execute("select username as schema_name from sys.all_users order by username")
while True:
    row = cur.fetchone()
    if row is None:
        break
    print(row)

connection.close()
